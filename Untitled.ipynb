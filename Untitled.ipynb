{
 "cells": [
  {
   "cell_type": "code",
   "execution_count": 1,
   "id": "f2eb30b2-ae64-4778-b822-1422ff978a48",
   "metadata": {},
   "outputs": [],
   "source": [
    "import difflib\n",
    "import seaborn as sns"
   ]
  },
  {
   "cell_type": "code",
   "execution_count": 2,
   "id": "c0372bf5-597e-4b29-bfeb-3ab5bca133ff",
   "metadata": {},
   "outputs": [],
   "source": [
    "import pandas as pd\n",
    "\n",
    "full_data = pd.read_csv('data/top_novels.csv')"
   ]
  },
  {
   "cell_type": "code",
   "execution_count": 3,
   "id": "0577da7d-076c-4a07-ae7a-4627e3412f95",
   "metadata": {},
   "outputs": [
    {
     "data": {
      "text/html": [
       "<div>\n",
       "<style scoped>\n",
       "    .dataframe tbody tr th:only-of-type {\n",
       "        vertical-align: middle;\n",
       "    }\n",
       "\n",
       "    .dataframe tbody tr th {\n",
       "        vertical-align: top;\n",
       "    }\n",
       "\n",
       "    .dataframe thead th {\n",
       "        text-align: right;\n",
       "    }\n",
       "</style>\n",
       "<table border=\"1\" class=\"dataframe\">\n",
       "  <thead>\n",
       "    <tr style=\"text-align: right;\">\n",
       "      <th></th>\n",
       "      <th>Series name (final cleaned version)</th>\n",
       "      <th>Book Title (Pre-cleaned title)</th>\n",
       "      <th>Author Name (already cleaned)</th>\n",
       "      <th>Reddit user anon.</th>\n",
       "    </tr>\n",
       "  </thead>\n",
       "  <tbody>\n",
       "    <tr>\n",
       "      <th>0</th>\n",
       "      <td>Arthor</td>\n",
       "      <td>The Dragon and the Unicorn</td>\n",
       "      <td>A.A. Attanasio</td>\n",
       "      <td>1</td>\n",
       "    </tr>\n",
       "    <tr>\n",
       "      <th>1</th>\n",
       "      <td>All the Murmuring Bones</td>\n",
       "      <td>All the Murmuring Bones</td>\n",
       "      <td>A.G. Slatter</td>\n",
       "      <td>2</td>\n",
       "    </tr>\n",
       "    <tr>\n",
       "      <th>2</th>\n",
       "      <td>Second Age of Retha</td>\n",
       "      <td>Second Age of Retha</td>\n",
       "      <td>A.M. Sohma</td>\n",
       "      <td>3</td>\n",
       "    </tr>\n",
       "    <tr>\n",
       "      <th>3</th>\n",
       "      <td>South Side Stories</td>\n",
       "      <td>The Enchanted Garden Cafe</td>\n",
       "      <td>Abigail Drake</td>\n",
       "      <td>4</td>\n",
       "    </tr>\n",
       "    <tr>\n",
       "      <th>4</th>\n",
       "      <td>Terra Ignota</td>\n",
       "      <td>Terra Ignota</td>\n",
       "      <td>Ada Palmer</td>\n",
       "      <td>5</td>\n",
       "    </tr>\n",
       "  </tbody>\n",
       "</table>\n",
       "</div>"
      ],
      "text/plain": [
       "  Series name (final cleaned version) Book Title (Pre-cleaned title)  \\\n",
       "0                              Arthor     The Dragon and the Unicorn   \n",
       "1             All the Murmuring Bones        All the Murmuring Bones   \n",
       "2                 Second Age of Retha            Second Age of Retha   \n",
       "3                  South Side Stories      The Enchanted Garden Cafe   \n",
       "4                        Terra Ignota                   Terra Ignota   \n",
       "\n",
       "  Author Name (already cleaned)  Reddit user anon.  \n",
       "0                A.A. Attanasio                  1  \n",
       "1                  A.G. Slatter                  2  \n",
       "2                    A.M. Sohma                  3  \n",
       "3                 Abigail Drake                  4  \n",
       "4                    Ada Palmer                  5  "
      ]
     },
     "execution_count": 3,
     "metadata": {},
     "output_type": "execute_result"
    }
   ],
   "source": [
    "full_data.head()"
   ]
  },
  {
   "cell_type": "code",
   "execution_count": 4,
   "id": "94dfd340-5b59-44c2-8102-87e479a8fd31",
   "metadata": {},
   "outputs": [
    {
     "data": {
      "text/plain": [
       "(8975, 4)"
      ]
     },
     "execution_count": 4,
     "metadata": {},
     "output_type": "execute_result"
    }
   ],
   "source": [
    "full_data.shape"
   ]
  },
  {
   "cell_type": "code",
   "execution_count": 5,
   "id": "decdaec8-68fa-4441-97ca-c7b21aefdbb6",
   "metadata": {},
   "outputs": [],
   "source": [
    "full_data.columns = ['series', 'title', 'author', 'user']"
   ]
  },
  {
   "cell_type": "code",
   "execution_count": 6,
   "id": "027e2af9-cae2-46e9-9b7b-e114796e774b",
   "metadata": {},
   "outputs": [],
   "source": [
    "series_list = list(set(full_data['series'].values))\n",
    "series_list.sort()"
   ]
  },
  {
   "cell_type": "code",
   "execution_count": 7,
   "id": "16b39577-174e-410e-9750-8f41a0f4a540",
   "metadata": {},
   "outputs": [
    {
     "data": {
      "text/plain": [
       "1184"
      ]
     },
     "execution_count": 7,
     "metadata": {},
     "output_type": "execute_result"
    }
   ],
   "source": [
    "len(series_list)"
   ]
  },
  {
   "cell_type": "code",
   "execution_count": 8,
   "id": "f55e6c5b-3a88-4106-9e44-fd81d2bb729d",
   "metadata": {
    "tags": []
   },
   "outputs": [],
   "source": [
    "series_dict = {}\n",
    "\n",
    "\n",
    "for series in series_list:\n",
    "    users = []\n",
    "    for i in range(full_data.shape[0]):\n",
    "        if full_data['series'][i] == series:\n",
    "            users.append(full_data['user'][i])\n",
    "    series_dict[series] = users"
   ]
  },
  {
   "cell_type": "code",
   "execution_count": 9,
   "id": "f1f33933-e9ef-476e-a97b-79730262e349",
   "metadata": {},
   "outputs": [],
   "source": [
    "#print(series_dict['The Stormlight Archive'])"
   ]
  },
  {
   "cell_type": "code",
   "execution_count": 10,
   "id": "ab3d635b-d3df-427b-a226-39ce65a6175b",
   "metadata": {},
   "outputs": [],
   "source": [
    "users_list = []\n",
    "\n",
    "for i in range(full_data.shape[0]):\n",
    "    users_list.append(full_data['user'][i])\n",
    "                      "
   ]
  },
  {
   "cell_type": "code",
   "execution_count": 11,
   "id": "198e641c-2101-433e-9a0d-b4355d8d5467",
   "metadata": {},
   "outputs": [
    {
     "name": "stdout",
     "output_type": "stream",
     "text": [
      "8975\n"
     ]
    }
   ],
   "source": [
    "print(len(users_list))"
   ]
  },
  {
   "cell_type": "code",
   "execution_count": 12,
   "id": "693bf7cd-70e5-436c-9542-4bb177480a34",
   "metadata": {},
   "outputs": [],
   "source": [
    "users_list = list(set(users_list))"
   ]
  },
  {
   "cell_type": "code",
   "execution_count": 13,
   "id": "72141fc9-aeb2-4b5d-afd3-2bc2150ad7a2",
   "metadata": {},
   "outputs": [],
   "source": [
    "users_cols = [str(user) for user in users_list]"
   ]
  },
  {
   "cell_type": "code",
   "execution_count": 14,
   "id": "dee94ff9-848d-484e-8c0e-089a936a7c32",
   "metadata": {},
   "outputs": [],
   "source": [
    "df_users = pd.DataFrame(columns=users_cols)"
   ]
  },
  {
   "cell_type": "code",
   "execution_count": 15,
   "id": "ef641663-bde9-4065-b27a-9b27ff708332",
   "metadata": {},
   "outputs": [
    {
     "data": {
      "text/html": [
       "<div>\n",
       "<style scoped>\n",
       "    .dataframe tbody tr th:only-of-type {\n",
       "        vertical-align: middle;\n",
       "    }\n",
       "\n",
       "    .dataframe tbody tr th {\n",
       "        vertical-align: top;\n",
       "    }\n",
       "\n",
       "    .dataframe thead th {\n",
       "        text-align: right;\n",
       "    }\n",
       "</style>\n",
       "<table border=\"1\" class=\"dataframe\">\n",
       "  <thead>\n",
       "    <tr style=\"text-align: right;\">\n",
       "      <th></th>\n",
       "      <th>1</th>\n",
       "      <th>2</th>\n",
       "      <th>3</th>\n",
       "      <th>4</th>\n",
       "      <th>5</th>\n",
       "      <th>6</th>\n",
       "      <th>7</th>\n",
       "      <th>8</th>\n",
       "      <th>9</th>\n",
       "      <th>10</th>\n",
       "      <th>...</th>\n",
       "      <th>932</th>\n",
       "      <th>933</th>\n",
       "      <th>934</th>\n",
       "      <th>935</th>\n",
       "      <th>936</th>\n",
       "      <th>937</th>\n",
       "      <th>938</th>\n",
       "      <th>939</th>\n",
       "      <th>940</th>\n",
       "      <th>941</th>\n",
       "    </tr>\n",
       "  </thead>\n",
       "  <tbody>\n",
       "  </tbody>\n",
       "</table>\n",
       "<p>0 rows × 941 columns</p>\n",
       "</div>"
      ],
      "text/plain": [
       "Empty DataFrame\n",
       "Columns: [1, 2, 3, 4, 5, 6, 7, 8, 9, 10, 11, 12, 13, 14, 15, 16, 17, 18, 19, 20, 21, 22, 23, 24, 25, 26, 27, 28, 29, 30, 31, 32, 33, 34, 35, 36, 37, 38, 39, 40, 41, 42, 43, 44, 45, 46, 47, 48, 49, 50, 51, 52, 53, 54, 55, 56, 57, 58, 59, 60, 61, 62, 63, 64, 65, 66, 67, 68, 69, 70, 71, 72, 73, 74, 75, 76, 77, 78, 79, 80, 81, 82, 83, 84, 85, 86, 87, 88, 89, 90, 91, 92, 93, 94, 95, 96, 97, 98, 99, 100, ...]\n",
       "Index: []\n",
       "\n",
       "[0 rows x 941 columns]"
      ]
     },
     "execution_count": 15,
     "metadata": {},
     "output_type": "execute_result"
    }
   ],
   "source": [
    "df_users.head()"
   ]
  },
  {
   "cell_type": "code",
   "execution_count": 17,
   "id": "be016a71-56cf-401f-ac2b-793b31f78d7e",
   "metadata": {
    "tags": []
   },
   "outputs": [],
   "source": [
    "series_user_dummy_dict = {}\n",
    "\n",
    "for series in series_list:\n",
    "    users_dummy = []\n",
    "    for user in users_list:\n",
    "        if user in series_dict[series]:\n",
    "            users_dummy.append(1)\n",
    "        else:\n",
    "            users_dummy.append(0)\n",
    "    series_user_dummy_dict[series] = users_dummy\n",
    "    #print(series)\n"
   ]
  },
  {
   "cell_type": "code",
   "execution_count": 18,
   "id": "baae7670-028f-422a-90c6-ea88d150dcd7",
   "metadata": {},
   "outputs": [
    {
     "name": "stdout",
     "output_type": "stream",
     "text": [
      "1184\n",
      "941\n"
     ]
    }
   ],
   "source": [
    "print(len(series_user_dummy_dict.values()))\n",
    "\n",
    "print(len(series_user_dummy_dict['Mistborn']))"
   ]
  },
  {
   "cell_type": "code",
   "execution_count": 19,
   "id": "2e7685b9-9b51-429a-aa85-f09f371798ce",
   "metadata": {},
   "outputs": [],
   "source": [
    "df = pd.DataFrame.from_dict(series_user_dummy_dict, orient='index')"
   ]
  },
  {
   "cell_type": "code",
   "execution_count": 20,
   "id": "1393482c-407e-405b-9f74-00c605696314",
   "metadata": {},
   "outputs": [
    {
     "data": {
      "text/html": [
       "<div>\n",
       "<style scoped>\n",
       "    .dataframe tbody tr th:only-of-type {\n",
       "        vertical-align: middle;\n",
       "    }\n",
       "\n",
       "    .dataframe tbody tr th {\n",
       "        vertical-align: top;\n",
       "    }\n",
       "\n",
       "    .dataframe thead th {\n",
       "        text-align: right;\n",
       "    }\n",
       "</style>\n",
       "<table border=\"1\" class=\"dataframe\">\n",
       "  <thead>\n",
       "    <tr style=\"text-align: right;\">\n",
       "      <th></th>\n",
       "      <th>0</th>\n",
       "      <th>1</th>\n",
       "      <th>2</th>\n",
       "      <th>3</th>\n",
       "      <th>4</th>\n",
       "      <th>5</th>\n",
       "      <th>6</th>\n",
       "      <th>7</th>\n",
       "      <th>8</th>\n",
       "      <th>9</th>\n",
       "      <th>...</th>\n",
       "      <th>931</th>\n",
       "      <th>932</th>\n",
       "      <th>933</th>\n",
       "      <th>934</th>\n",
       "      <th>935</th>\n",
       "      <th>936</th>\n",
       "      <th>937</th>\n",
       "      <th>938</th>\n",
       "      <th>939</th>\n",
       "      <th>940</th>\n",
       "    </tr>\n",
       "  </thead>\n",
       "  <tbody>\n",
       "    <tr>\n",
       "      <th>14</th>\n",
       "      <td>0</td>\n",
       "      <td>0</td>\n",
       "      <td>0</td>\n",
       "      <td>0</td>\n",
       "      <td>0</td>\n",
       "      <td>0</td>\n",
       "      <td>0</td>\n",
       "      <td>0</td>\n",
       "      <td>0</td>\n",
       "      <td>0</td>\n",
       "      <td>...</td>\n",
       "      <td>0</td>\n",
       "      <td>0</td>\n",
       "      <td>0</td>\n",
       "      <td>0</td>\n",
       "      <td>0</td>\n",
       "      <td>0</td>\n",
       "      <td>0</td>\n",
       "      <td>0</td>\n",
       "      <td>0</td>\n",
       "      <td>0</td>\n",
       "    </tr>\n",
       "    <tr>\n",
       "      <th>1984</th>\n",
       "      <td>0</td>\n",
       "      <td>0</td>\n",
       "      <td>0</td>\n",
       "      <td>0</td>\n",
       "      <td>0</td>\n",
       "      <td>0</td>\n",
       "      <td>0</td>\n",
       "      <td>0</td>\n",
       "      <td>0</td>\n",
       "      <td>0</td>\n",
       "      <td>...</td>\n",
       "      <td>0</td>\n",
       "      <td>0</td>\n",
       "      <td>0</td>\n",
       "      <td>0</td>\n",
       "      <td>0</td>\n",
       "      <td>0</td>\n",
       "      <td>0</td>\n",
       "      <td>0</td>\n",
       "      <td>0</td>\n",
       "      <td>0</td>\n",
       "    </tr>\n",
       "  </tbody>\n",
       "</table>\n",
       "<p>2 rows × 941 columns</p>\n",
       "</div>"
      ],
      "text/plain": [
       "      0    1    2    3    4    5    6    7    8    9    ...  931  932  933  \\\n",
       "14      0    0    0    0    0    0    0    0    0    0  ...    0    0    0   \n",
       "1984    0    0    0    0    0    0    0    0    0    0  ...    0    0    0   \n",
       "\n",
       "      934  935  936  937  938  939  940  \n",
       "14      0    0    0    0    0    0    0  \n",
       "1984    0    0    0    0    0    0    0  \n",
       "\n",
       "[2 rows x 941 columns]"
      ]
     },
     "execution_count": 20,
     "metadata": {},
     "output_type": "execute_result"
    }
   ],
   "source": [
    "df.head(2)"
   ]
  },
  {
   "cell_type": "code",
   "execution_count": 21,
   "id": "e5d10f2f-f73a-465d-b3ab-f023ae7e546a",
   "metadata": {},
   "outputs": [],
   "source": [
    "df.to_csv('data/series_users_vectors.csv')"
   ]
  },
  {
   "cell_type": "code",
   "execution_count": 41,
   "id": "236dbc70-57cf-4dd3-a6a7-2d9e83606db1",
   "metadata": {},
   "outputs": [],
   "source": [
    "df_2 = pd.read_csv('data/series_users_vectors.csv', index_col=0)"
   ]
  },
  {
   "cell_type": "code",
   "execution_count": 42,
   "id": "369e3fba-3794-456c-bd8a-f1c9ae1c72a5",
   "metadata": {},
   "outputs": [],
   "source": [
    "df_t = df_2.T"
   ]
  },
  {
   "cell_type": "code",
   "execution_count": 43,
   "id": "0f4b4b17-9837-4b2c-ada9-4e6e82b8ac85",
   "metadata": {},
   "outputs": [],
   "source": [
    "corr = df_t.corr()"
   ]
  },
  {
   "cell_type": "code",
   "execution_count": 44,
   "id": "dc389e2f-1589-4a9b-a84a-ef40324686ec",
   "metadata": {},
   "outputs": [],
   "source": [
    "corr.to_csv('data/correlations.csv')"
   ]
  },
  {
   "cell_type": "code",
   "execution_count": 45,
   "id": "7d12a94b-5486-48f4-9606-fcda9904eac7",
   "metadata": {},
   "outputs": [],
   "source": [
    "corr = pd.read_csv('data/correlations.csv', index_col=0)"
   ]
  },
  {
   "cell_type": "code",
   "execution_count": 46,
   "id": "8dd373f1-ff95-4777-b605-2636f8076eb0",
   "metadata": {},
   "outputs": [
    {
     "data": {
      "text/html": [
       "<div>\n",
       "<style scoped>\n",
       "    .dataframe tbody tr th:only-of-type {\n",
       "        vertical-align: middle;\n",
       "    }\n",
       "\n",
       "    .dataframe tbody tr th {\n",
       "        vertical-align: top;\n",
       "    }\n",
       "\n",
       "    .dataframe thead th {\n",
       "        text-align: right;\n",
       "    }\n",
       "</style>\n",
       "<table border=\"1\" class=\"dataframe\">\n",
       "  <thead>\n",
       "    <tr style=\"text-align: right;\">\n",
       "      <th></th>\n",
       "      <th>14</th>\n",
       "      <th>1984</th>\n",
       "      <th>1Q84</th>\n",
       "      <th>23337</th>\n",
       "      <th>84K</th>\n",
       "      <th>A Boy and His Dog at the End of the World</th>\n",
       "      <th>A Brightness Long Ago</th>\n",
       "      <th>A Chorus of Dragons</th>\n",
       "      <th>A Christmas Carol</th>\n",
       "      <th>A Connecticut Yankee in King Arthur's Court</th>\n",
       "      <th>...</th>\n",
       "      <th>Wylding Hall</th>\n",
       "      <th>Xenogenesis</th>\n",
       "      <th>Yarnsworld</th>\n",
       "      <th>Young Wizards</th>\n",
       "      <th>Yu Yu Hakusho</th>\n",
       "      <th>Zamonia</th>\n",
       "      <th>Zones of Thought</th>\n",
       "      <th>the Poppy War</th>\n",
       "      <th>warbreaker</th>\n",
       "      <th>Ælefas</th>\n",
       "    </tr>\n",
       "  </thead>\n",
       "  <tbody>\n",
       "    <tr>\n",
       "      <th>14</th>\n",
       "      <td>1.000000</td>\n",
       "      <td>-0.003707</td>\n",
       "      <td>-0.001505</td>\n",
       "      <td>0.407161</td>\n",
       "      <td>-0.001064</td>\n",
       "      <td>-0.001064</td>\n",
       "      <td>-0.001064</td>\n",
       "      <td>-0.001505</td>\n",
       "      <td>-0.001064</td>\n",
       "      <td>-0.001064</td>\n",
       "      <td>...</td>\n",
       "      <td>-0.001064</td>\n",
       "      <td>-0.003020</td>\n",
       "      <td>-0.001845</td>\n",
       "      <td>-0.001505</td>\n",
       "      <td>-0.001064</td>\n",
       "      <td>-0.002384</td>\n",
       "      <td>-0.001064</td>\n",
       "      <td>-0.001064</td>\n",
       "      <td>-0.001064</td>\n",
       "      <td>-0.001064</td>\n",
       "    </tr>\n",
       "    <tr>\n",
       "      <th>1984</th>\n",
       "      <td>-0.003707</td>\n",
       "      <td>1.000000</td>\n",
       "      <td>-0.005245</td>\n",
       "      <td>-0.009104</td>\n",
       "      <td>-0.003707</td>\n",
       "      <td>-0.003707</td>\n",
       "      <td>-0.003707</td>\n",
       "      <td>-0.005245</td>\n",
       "      <td>-0.003707</td>\n",
       "      <td>-0.003707</td>\n",
       "      <td>...</td>\n",
       "      <td>-0.003707</td>\n",
       "      <td>-0.010524</td>\n",
       "      <td>-0.006427</td>\n",
       "      <td>-0.005245</td>\n",
       "      <td>-0.003707</td>\n",
       "      <td>-0.008307</td>\n",
       "      <td>-0.003707</td>\n",
       "      <td>-0.003707</td>\n",
       "      <td>-0.003707</td>\n",
       "      <td>-0.003707</td>\n",
       "    </tr>\n",
       "    <tr>\n",
       "      <th>1Q84</th>\n",
       "      <td>-0.001505</td>\n",
       "      <td>-0.005245</td>\n",
       "      <td>1.000000</td>\n",
       "      <td>-0.003697</td>\n",
       "      <td>-0.001505</td>\n",
       "      <td>-0.001505</td>\n",
       "      <td>-0.001505</td>\n",
       "      <td>-0.002130</td>\n",
       "      <td>-0.001505</td>\n",
       "      <td>-0.001505</td>\n",
       "      <td>...</td>\n",
       "      <td>-0.001505</td>\n",
       "      <td>-0.004274</td>\n",
       "      <td>-0.002610</td>\n",
       "      <td>-0.002130</td>\n",
       "      <td>-0.001505</td>\n",
       "      <td>-0.003373</td>\n",
       "      <td>-0.001505</td>\n",
       "      <td>-0.001505</td>\n",
       "      <td>-0.001505</td>\n",
       "      <td>-0.001505</td>\n",
       "    </tr>\n",
       "    <tr>\n",
       "      <th>23337</th>\n",
       "      <td>0.407161</td>\n",
       "      <td>-0.009104</td>\n",
       "      <td>-0.003697</td>\n",
       "      <td>1.000000</td>\n",
       "      <td>-0.002613</td>\n",
       "      <td>-0.002613</td>\n",
       "      <td>-0.002613</td>\n",
       "      <td>-0.003697</td>\n",
       "      <td>-0.002613</td>\n",
       "      <td>-0.002613</td>\n",
       "      <td>...</td>\n",
       "      <td>-0.002613</td>\n",
       "      <td>-0.007418</td>\n",
       "      <td>-0.004530</td>\n",
       "      <td>-0.003697</td>\n",
       "      <td>-0.002613</td>\n",
       "      <td>-0.005855</td>\n",
       "      <td>-0.002613</td>\n",
       "      <td>-0.002613</td>\n",
       "      <td>-0.002613</td>\n",
       "      <td>-0.002613</td>\n",
       "    </tr>\n",
       "    <tr>\n",
       "      <th>84K</th>\n",
       "      <td>-0.001064</td>\n",
       "      <td>-0.003707</td>\n",
       "      <td>-0.001505</td>\n",
       "      <td>-0.002613</td>\n",
       "      <td>1.000000</td>\n",
       "      <td>-0.001064</td>\n",
       "      <td>-0.001064</td>\n",
       "      <td>-0.001505</td>\n",
       "      <td>-0.001064</td>\n",
       "      <td>-0.001064</td>\n",
       "      <td>...</td>\n",
       "      <td>-0.001064</td>\n",
       "      <td>-0.003020</td>\n",
       "      <td>-0.001845</td>\n",
       "      <td>-0.001505</td>\n",
       "      <td>-0.001064</td>\n",
       "      <td>-0.002384</td>\n",
       "      <td>-0.001064</td>\n",
       "      <td>-0.001064</td>\n",
       "      <td>-0.001064</td>\n",
       "      <td>-0.001064</td>\n",
       "    </tr>\n",
       "  </tbody>\n",
       "</table>\n",
       "<p>5 rows × 1184 columns</p>\n",
       "</div>"
      ],
      "text/plain": [
       "             14      1984      1Q84     23337       84K  \\\n",
       "14     1.000000 -0.003707 -0.001505  0.407161 -0.001064   \n",
       "1984  -0.003707  1.000000 -0.005245 -0.009104 -0.003707   \n",
       "1Q84  -0.001505 -0.005245  1.000000 -0.003697 -0.001505   \n",
       "23337  0.407161 -0.009104 -0.003697  1.000000 -0.002613   \n",
       "84K   -0.001064 -0.003707 -0.001505 -0.002613  1.000000   \n",
       "\n",
       "       A Boy and His Dog at the End of the World  A Brightness Long Ago  \\\n",
       "14                                     -0.001064              -0.001064   \n",
       "1984                                   -0.003707              -0.003707   \n",
       "1Q84                                   -0.001505              -0.001505   \n",
       "23337                                  -0.002613              -0.002613   \n",
       "84K                                    -0.001064              -0.001064   \n",
       "\n",
       "       A Chorus of Dragons  A Christmas Carol  \\\n",
       "14               -0.001505          -0.001064   \n",
       "1984             -0.005245          -0.003707   \n",
       "1Q84             -0.002130          -0.001505   \n",
       "23337            -0.003697          -0.002613   \n",
       "84K              -0.001505          -0.001064   \n",
       "\n",
       "       A Connecticut Yankee in King Arthur's Court  ...  Wylding Hall  \\\n",
       "14                                       -0.001064  ...     -0.001064   \n",
       "1984                                     -0.003707  ...     -0.003707   \n",
       "1Q84                                     -0.001505  ...     -0.001505   \n",
       "23337                                    -0.002613  ...     -0.002613   \n",
       "84K                                      -0.001064  ...     -0.001064   \n",
       "\n",
       "       Xenogenesis  Yarnsworld  Young Wizards  Yu Yu Hakusho   Zamonia  \\\n",
       "14       -0.003020   -0.001845      -0.001505      -0.001064 -0.002384   \n",
       "1984     -0.010524   -0.006427      -0.005245      -0.003707 -0.008307   \n",
       "1Q84     -0.004274   -0.002610      -0.002130      -0.001505 -0.003373   \n",
       "23337    -0.007418   -0.004530      -0.003697      -0.002613 -0.005855   \n",
       "84K      -0.003020   -0.001845      -0.001505      -0.001064 -0.002384   \n",
       "\n",
       "       Zones of Thought  the Poppy War  warbreaker    Ælefas  \n",
       "14            -0.001064      -0.001064   -0.001064 -0.001064  \n",
       "1984          -0.003707      -0.003707   -0.003707 -0.003707  \n",
       "1Q84          -0.001505      -0.001505   -0.001505 -0.001505  \n",
       "23337         -0.002613      -0.002613   -0.002613 -0.002613  \n",
       "84K           -0.001064      -0.001064   -0.001064 -0.001064  \n",
       "\n",
       "[5 rows x 1184 columns]"
      ]
     },
     "execution_count": 46,
     "metadata": {},
     "output_type": "execute_result"
    }
   ],
   "source": [
    "corr.head()"
   ]
  },
  {
   "cell_type": "code",
   "execution_count": 51,
   "id": "5ef662c7-3605-44b8-9f41-2f14b0b0f4d2",
   "metadata": {},
   "outputs": [
    {
     "data": {
      "text/plain": [
       "'Ash and Sand'"
      ]
     },
     "execution_count": 51,
     "metadata": {},
     "output_type": "execute_result"
    }
   ],
   "source": [
    "corr['Riyria'].sort_values(ascending=False)[1:6].index[0]"
   ]
  },
  {
   "cell_type": "code",
   "execution_count": 56,
   "id": "152a5d7e-a583-4a64-ac45-67b778f85562",
   "metadata": {},
   "outputs": [
    {
     "name": "stdout",
     "output_type": "stream",
     "text": [
      "[1, 2, 3, 4, 5]\n"
     ]
    }
   ],
   "source": [
    "print(list((range(1,6))))"
   ]
  }
 ],
 "metadata": {
  "kernelspec": {
   "display_name": "Python 3 (ipykernel)",
   "language": "python",
   "name": "python3"
  },
  "language_info": {
   "codemirror_mode": {
    "name": "ipython",
    "version": 3
   },
   "file_extension": ".py",
   "mimetype": "text/x-python",
   "name": "python",
   "nbconvert_exporter": "python",
   "pygments_lexer": "ipython3",
   "version": "3.9.12"
  }
 },
 "nbformat": 4,
 "nbformat_minor": 5
}
